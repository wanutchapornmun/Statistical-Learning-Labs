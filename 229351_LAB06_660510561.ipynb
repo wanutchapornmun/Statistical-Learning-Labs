{
  "cells": [
    {
      "cell_type": "markdown",
      "metadata": {
        "id": "view-in-github",
        "colab_type": "text"
      },
      "source": [
        "<a href=\"https://colab.research.google.com/github/wanutchapornmun/Statistical-Learning-Labs/blob/main/229351_LAB06_660510561.ipynb\" target=\"_parent\"><img src=\"https://colab.research.google.com/assets/colab-badge.svg\" alt=\"Open In Colab\"/></a>"
      ]
    },
    {
      "cell_type": "markdown",
      "metadata": {
        "id": "rUWDxJYaXbGS"
      },
      "source": [
        "ปฏิบัติการครั้งที่ 5 กระบวนวิชา 229351 Statistical Learning for Data Science\n",
        "\n",
        "คำชี้แจง\n",
        "\n",
        "ให้เริ่มทำปฏิบัติการจาก colab notebook ที่กำหนดให้ จากนั้น share แล้วส่ง link มาใน mango.cmu.ac.th"
      ]
    },
    {
      "cell_type": "markdown",
      "metadata": {
        "id": "BFeBRlckOxSG"
      },
      "source": [
        "ดาวน์โหลดข้อมูลรถยนต์ชนิดต่างใน link ข้างล่างนี้\n",
        "https://donlapark.pages.dev/229351/data/Auto.csv\n",
        "หรือรันโค้ดข้างล่าง"
      ]
    },
    {
      "cell_type": "code",
      "execution_count": 3,
      "metadata": {
        "id": "ntO6KNB7A24q",
        "colab": {
          "base_uri": "https://localhost:8080/"
        },
        "outputId": "83ecf6d4-1103-4cd6-a416-5613dc0a03d7"
      },
      "outputs": [
        {
          "output_type": "stream",
          "name": "stdout",
          "text": [
            "--2025-08-07 05:46:53--  https://donlapark.pages.dev/229351/data/Auto.csv\n",
            "Resolving donlapark.pages.dev (donlapark.pages.dev)... 172.66.47.56, 172.66.44.200, 2606:4700:310c::ac42:2f38, ...\n",
            "Connecting to donlapark.pages.dev (donlapark.pages.dev)|172.66.47.56|:443... connected.\n",
            "HTTP request sent, awaiting response... 200 OK\n",
            "Length: 18079 (18K) [text/csv]\n",
            "Saving to: ‘Auto.csv’\n",
            "\n",
            "Auto.csv            100%[===================>]  17.66K  --.-KB/s    in 0s      \n",
            "\n",
            "2025-08-07 05:46:53 (81.1 MB/s) - ‘Auto.csv’ saved [18079/18079]\n",
            "\n"
          ]
        }
      ],
      "source": [
        "!wget https://donlapark.pages.dev/229351/data/Auto.csv"
      ]
    },
    {
      "cell_type": "code",
      "execution_count": 4,
      "metadata": {
        "id": "5Tebr3-dBKxj"
      },
      "outputs": [],
      "source": [
        "import numpy as np\n",
        "import pandas as pd\n",
        "from scipy import stats"
      ]
    },
    {
      "cell_type": "code",
      "execution_count": 5,
      "metadata": {
        "id": "O_4Mr2OWaAae",
        "colab": {
          "base_uri": "https://localhost:8080/",
          "height": 206
        },
        "outputId": "a84b36d7-1a52-4e5a-fdce-87795ce5567e"
      },
      "outputs": [
        {
          "output_type": "execute_result",
          "data": {
            "text/plain": [
              "    mpg  cylinders  displacement  horsepower  weight  acceleration  year  \\\n",
              "0  18.0          8         307.0       130.0    3504          12.0    70   \n",
              "1  15.0          8         350.0       165.0    3693          11.5    70   \n",
              "2  18.0          8         318.0       150.0    3436          11.0    70   \n",
              "3  16.0          8         304.0       150.0    3433          12.0    70   \n",
              "4  17.0          8         302.0       140.0    3449          10.5    70   \n",
              "\n",
              "   origin                       name  \n",
              "0       1  chevrolet chevelle malibu  \n",
              "1       1          buick skylark 320  \n",
              "2       1         plymouth satellite  \n",
              "3       1              amc rebel sst  \n",
              "4       1                ford torino  "
            ],
            "text/html": [
              "\n",
              "  <div id=\"df-05a3542b-7c28-43a7-96bc-ae1bd7cdbfd6\" class=\"colab-df-container\">\n",
              "    <div>\n",
              "<style scoped>\n",
              "    .dataframe tbody tr th:only-of-type {\n",
              "        vertical-align: middle;\n",
              "    }\n",
              "\n",
              "    .dataframe tbody tr th {\n",
              "        vertical-align: top;\n",
              "    }\n",
              "\n",
              "    .dataframe thead th {\n",
              "        text-align: right;\n",
              "    }\n",
              "</style>\n",
              "<table border=\"1\" class=\"dataframe\">\n",
              "  <thead>\n",
              "    <tr style=\"text-align: right;\">\n",
              "      <th></th>\n",
              "      <th>mpg</th>\n",
              "      <th>cylinders</th>\n",
              "      <th>displacement</th>\n",
              "      <th>horsepower</th>\n",
              "      <th>weight</th>\n",
              "      <th>acceleration</th>\n",
              "      <th>year</th>\n",
              "      <th>origin</th>\n",
              "      <th>name</th>\n",
              "    </tr>\n",
              "  </thead>\n",
              "  <tbody>\n",
              "    <tr>\n",
              "      <th>0</th>\n",
              "      <td>18.0</td>\n",
              "      <td>8</td>\n",
              "      <td>307.0</td>\n",
              "      <td>130.0</td>\n",
              "      <td>3504</td>\n",
              "      <td>12.0</td>\n",
              "      <td>70</td>\n",
              "      <td>1</td>\n",
              "      <td>chevrolet chevelle malibu</td>\n",
              "    </tr>\n",
              "    <tr>\n",
              "      <th>1</th>\n",
              "      <td>15.0</td>\n",
              "      <td>8</td>\n",
              "      <td>350.0</td>\n",
              "      <td>165.0</td>\n",
              "      <td>3693</td>\n",
              "      <td>11.5</td>\n",
              "      <td>70</td>\n",
              "      <td>1</td>\n",
              "      <td>buick skylark 320</td>\n",
              "    </tr>\n",
              "    <tr>\n",
              "      <th>2</th>\n",
              "      <td>18.0</td>\n",
              "      <td>8</td>\n",
              "      <td>318.0</td>\n",
              "      <td>150.0</td>\n",
              "      <td>3436</td>\n",
              "      <td>11.0</td>\n",
              "      <td>70</td>\n",
              "      <td>1</td>\n",
              "      <td>plymouth satellite</td>\n",
              "    </tr>\n",
              "    <tr>\n",
              "      <th>3</th>\n",
              "      <td>16.0</td>\n",
              "      <td>8</td>\n",
              "      <td>304.0</td>\n",
              "      <td>150.0</td>\n",
              "      <td>3433</td>\n",
              "      <td>12.0</td>\n",
              "      <td>70</td>\n",
              "      <td>1</td>\n",
              "      <td>amc rebel sst</td>\n",
              "    </tr>\n",
              "    <tr>\n",
              "      <th>4</th>\n",
              "      <td>17.0</td>\n",
              "      <td>8</td>\n",
              "      <td>302.0</td>\n",
              "      <td>140.0</td>\n",
              "      <td>3449</td>\n",
              "      <td>10.5</td>\n",
              "      <td>70</td>\n",
              "      <td>1</td>\n",
              "      <td>ford torino</td>\n",
              "    </tr>\n",
              "  </tbody>\n",
              "</table>\n",
              "</div>\n",
              "    <div class=\"colab-df-buttons\">\n",
              "\n",
              "  <div class=\"colab-df-container\">\n",
              "    <button class=\"colab-df-convert\" onclick=\"convertToInteractive('df-05a3542b-7c28-43a7-96bc-ae1bd7cdbfd6')\"\n",
              "            title=\"Convert this dataframe to an interactive table.\"\n",
              "            style=\"display:none;\">\n",
              "\n",
              "  <svg xmlns=\"http://www.w3.org/2000/svg\" height=\"24px\" viewBox=\"0 -960 960 960\">\n",
              "    <path d=\"M120-120v-720h720v720H120Zm60-500h600v-160H180v160Zm220 220h160v-160H400v160Zm0 220h160v-160H400v160ZM180-400h160v-160H180v160Zm440 0h160v-160H620v160ZM180-180h160v-160H180v160Zm440 0h160v-160H620v160Z\"/>\n",
              "  </svg>\n",
              "    </button>\n",
              "\n",
              "  <style>\n",
              "    .colab-df-container {\n",
              "      display:flex;\n",
              "      gap: 12px;\n",
              "    }\n",
              "\n",
              "    .colab-df-convert {\n",
              "      background-color: #E8F0FE;\n",
              "      border: none;\n",
              "      border-radius: 50%;\n",
              "      cursor: pointer;\n",
              "      display: none;\n",
              "      fill: #1967D2;\n",
              "      height: 32px;\n",
              "      padding: 0 0 0 0;\n",
              "      width: 32px;\n",
              "    }\n",
              "\n",
              "    .colab-df-convert:hover {\n",
              "      background-color: #E2EBFA;\n",
              "      box-shadow: 0px 1px 2px rgba(60, 64, 67, 0.3), 0px 1px 3px 1px rgba(60, 64, 67, 0.15);\n",
              "      fill: #174EA6;\n",
              "    }\n",
              "\n",
              "    .colab-df-buttons div {\n",
              "      margin-bottom: 4px;\n",
              "    }\n",
              "\n",
              "    [theme=dark] .colab-df-convert {\n",
              "      background-color: #3B4455;\n",
              "      fill: #D2E3FC;\n",
              "    }\n",
              "\n",
              "    [theme=dark] .colab-df-convert:hover {\n",
              "      background-color: #434B5C;\n",
              "      box-shadow: 0px 1px 3px 1px rgba(0, 0, 0, 0.15);\n",
              "      filter: drop-shadow(0px 1px 2px rgba(0, 0, 0, 0.3));\n",
              "      fill: #FFFFFF;\n",
              "    }\n",
              "  </style>\n",
              "\n",
              "    <script>\n",
              "      const buttonEl =\n",
              "        document.querySelector('#df-05a3542b-7c28-43a7-96bc-ae1bd7cdbfd6 button.colab-df-convert');\n",
              "      buttonEl.style.display =\n",
              "        google.colab.kernel.accessAllowed ? 'block' : 'none';\n",
              "\n",
              "      async function convertToInteractive(key) {\n",
              "        const element = document.querySelector('#df-05a3542b-7c28-43a7-96bc-ae1bd7cdbfd6');\n",
              "        const dataTable =\n",
              "          await google.colab.kernel.invokeFunction('convertToInteractive',\n",
              "                                                    [key], {});\n",
              "        if (!dataTable) return;\n",
              "\n",
              "        const docLinkHtml = 'Like what you see? Visit the ' +\n",
              "          '<a target=\"_blank\" href=https://colab.research.google.com/notebooks/data_table.ipynb>data table notebook</a>'\n",
              "          + ' to learn more about interactive tables.';\n",
              "        element.innerHTML = '';\n",
              "        dataTable['output_type'] = 'display_data';\n",
              "        await google.colab.output.renderOutput(dataTable, element);\n",
              "        const docLink = document.createElement('div');\n",
              "        docLink.innerHTML = docLinkHtml;\n",
              "        element.appendChild(docLink);\n",
              "      }\n",
              "    </script>\n",
              "  </div>\n",
              "\n",
              "\n",
              "    <div id=\"df-d3951874-5f31-4bed-b53c-6a5ac3c02580\">\n",
              "      <button class=\"colab-df-quickchart\" onclick=\"quickchart('df-d3951874-5f31-4bed-b53c-6a5ac3c02580')\"\n",
              "                title=\"Suggest charts\"\n",
              "                style=\"display:none;\">\n",
              "\n",
              "<svg xmlns=\"http://www.w3.org/2000/svg\" height=\"24px\"viewBox=\"0 0 24 24\"\n",
              "     width=\"24px\">\n",
              "    <g>\n",
              "        <path d=\"M19 3H5c-1.1 0-2 .9-2 2v14c0 1.1.9 2 2 2h14c1.1 0 2-.9 2-2V5c0-1.1-.9-2-2-2zM9 17H7v-7h2v7zm4 0h-2V7h2v10zm4 0h-2v-4h2v4z\"/>\n",
              "    </g>\n",
              "</svg>\n",
              "      </button>\n",
              "\n",
              "<style>\n",
              "  .colab-df-quickchart {\n",
              "      --bg-color: #E8F0FE;\n",
              "      --fill-color: #1967D2;\n",
              "      --hover-bg-color: #E2EBFA;\n",
              "      --hover-fill-color: #174EA6;\n",
              "      --disabled-fill-color: #AAA;\n",
              "      --disabled-bg-color: #DDD;\n",
              "  }\n",
              "\n",
              "  [theme=dark] .colab-df-quickchart {\n",
              "      --bg-color: #3B4455;\n",
              "      --fill-color: #D2E3FC;\n",
              "      --hover-bg-color: #434B5C;\n",
              "      --hover-fill-color: #FFFFFF;\n",
              "      --disabled-bg-color: #3B4455;\n",
              "      --disabled-fill-color: #666;\n",
              "  }\n",
              "\n",
              "  .colab-df-quickchart {\n",
              "    background-color: var(--bg-color);\n",
              "    border: none;\n",
              "    border-radius: 50%;\n",
              "    cursor: pointer;\n",
              "    display: none;\n",
              "    fill: var(--fill-color);\n",
              "    height: 32px;\n",
              "    padding: 0;\n",
              "    width: 32px;\n",
              "  }\n",
              "\n",
              "  .colab-df-quickchart:hover {\n",
              "    background-color: var(--hover-bg-color);\n",
              "    box-shadow: 0 1px 2px rgba(60, 64, 67, 0.3), 0 1px 3px 1px rgba(60, 64, 67, 0.15);\n",
              "    fill: var(--button-hover-fill-color);\n",
              "  }\n",
              "\n",
              "  .colab-df-quickchart-complete:disabled,\n",
              "  .colab-df-quickchart-complete:disabled:hover {\n",
              "    background-color: var(--disabled-bg-color);\n",
              "    fill: var(--disabled-fill-color);\n",
              "    box-shadow: none;\n",
              "  }\n",
              "\n",
              "  .colab-df-spinner {\n",
              "    border: 2px solid var(--fill-color);\n",
              "    border-color: transparent;\n",
              "    border-bottom-color: var(--fill-color);\n",
              "    animation:\n",
              "      spin 1s steps(1) infinite;\n",
              "  }\n",
              "\n",
              "  @keyframes spin {\n",
              "    0% {\n",
              "      border-color: transparent;\n",
              "      border-bottom-color: var(--fill-color);\n",
              "      border-left-color: var(--fill-color);\n",
              "    }\n",
              "    20% {\n",
              "      border-color: transparent;\n",
              "      border-left-color: var(--fill-color);\n",
              "      border-top-color: var(--fill-color);\n",
              "    }\n",
              "    30% {\n",
              "      border-color: transparent;\n",
              "      border-left-color: var(--fill-color);\n",
              "      border-top-color: var(--fill-color);\n",
              "      border-right-color: var(--fill-color);\n",
              "    }\n",
              "    40% {\n",
              "      border-color: transparent;\n",
              "      border-right-color: var(--fill-color);\n",
              "      border-top-color: var(--fill-color);\n",
              "    }\n",
              "    60% {\n",
              "      border-color: transparent;\n",
              "      border-right-color: var(--fill-color);\n",
              "    }\n",
              "    80% {\n",
              "      border-color: transparent;\n",
              "      border-right-color: var(--fill-color);\n",
              "      border-bottom-color: var(--fill-color);\n",
              "    }\n",
              "    90% {\n",
              "      border-color: transparent;\n",
              "      border-bottom-color: var(--fill-color);\n",
              "    }\n",
              "  }\n",
              "</style>\n",
              "\n",
              "      <script>\n",
              "        async function quickchart(key) {\n",
              "          const quickchartButtonEl =\n",
              "            document.querySelector('#' + key + ' button');\n",
              "          quickchartButtonEl.disabled = true;  // To prevent multiple clicks.\n",
              "          quickchartButtonEl.classList.add('colab-df-spinner');\n",
              "          try {\n",
              "            const charts = await google.colab.kernel.invokeFunction(\n",
              "                'suggestCharts', [key], {});\n",
              "          } catch (error) {\n",
              "            console.error('Error during call to suggestCharts:', error);\n",
              "          }\n",
              "          quickchartButtonEl.classList.remove('colab-df-spinner');\n",
              "          quickchartButtonEl.classList.add('colab-df-quickchart-complete');\n",
              "        }\n",
              "        (() => {\n",
              "          let quickchartButtonEl =\n",
              "            document.querySelector('#df-d3951874-5f31-4bed-b53c-6a5ac3c02580 button');\n",
              "          quickchartButtonEl.style.display =\n",
              "            google.colab.kernel.accessAllowed ? 'block' : 'none';\n",
              "        })();\n",
              "      </script>\n",
              "    </div>\n",
              "\n",
              "    </div>\n",
              "  </div>\n"
            ],
            "application/vnd.google.colaboratory.intrinsic+json": {
              "type": "dataframe",
              "variable_name": "auto_df",
              "summary": "{\n  \"name\": \"auto_df\",\n  \"rows\": 392,\n  \"fields\": [\n    {\n      \"column\": \"mpg\",\n      \"properties\": {\n        \"dtype\": \"number\",\n        \"std\": 7.805007486571799,\n        \"min\": 9.0,\n        \"max\": 46.6,\n        \"num_unique_values\": 127,\n        \"samples\": [\n          17.5,\n          35.1,\n          28.8\n        ],\n        \"semantic_type\": \"\",\n        \"description\": \"\"\n      }\n    },\n    {\n      \"column\": \"cylinders\",\n      \"properties\": {\n        \"dtype\": \"number\",\n        \"std\": 1,\n        \"min\": 3,\n        \"max\": 8,\n        \"num_unique_values\": 5,\n        \"samples\": [\n          4,\n          5,\n          6\n        ],\n        \"semantic_type\": \"\",\n        \"description\": \"\"\n      }\n    },\n    {\n      \"column\": \"displacement\",\n      \"properties\": {\n        \"dtype\": \"number\",\n        \"std\": 104.64400390890465,\n        \"min\": 68.0,\n        \"max\": 455.0,\n        \"num_unique_values\": 81,\n        \"samples\": [\n          116.0,\n          307.0,\n          360.0\n        ],\n        \"semantic_type\": \"\",\n        \"description\": \"\"\n      }\n    },\n    {\n      \"column\": \"horsepower\",\n      \"properties\": {\n        \"dtype\": \"number\",\n        \"std\": 38.49115993282855,\n        \"min\": 46.0,\n        \"max\": 230.0,\n        \"num_unique_values\": 93,\n        \"samples\": [\n          92.0,\n          100.0,\n          52.0\n        ],\n        \"semantic_type\": \"\",\n        \"description\": \"\"\n      }\n    },\n    {\n      \"column\": \"weight\",\n      \"properties\": {\n        \"dtype\": \"number\",\n        \"std\": 849,\n        \"min\": 1613,\n        \"max\": 5140,\n        \"num_unique_values\": 346,\n        \"samples\": [\n          2472,\n          3221,\n          2700\n        ],\n        \"semantic_type\": \"\",\n        \"description\": \"\"\n      }\n    },\n    {\n      \"column\": \"acceleration\",\n      \"properties\": {\n        \"dtype\": \"number\",\n        \"std\": 2.7588641191880816,\n        \"min\": 8.0,\n        \"max\": 24.8,\n        \"num_unique_values\": 95,\n        \"samples\": [\n          14.7,\n          18.0,\n          14.3\n        ],\n        \"semantic_type\": \"\",\n        \"description\": \"\"\n      }\n    },\n    {\n      \"column\": \"year\",\n      \"properties\": {\n        \"dtype\": \"number\",\n        \"std\": 3,\n        \"min\": 70,\n        \"max\": 82,\n        \"num_unique_values\": 13,\n        \"samples\": [\n          81,\n          79,\n          70\n        ],\n        \"semantic_type\": \"\",\n        \"description\": \"\"\n      }\n    },\n    {\n      \"column\": \"origin\",\n      \"properties\": {\n        \"dtype\": \"number\",\n        \"std\": 0,\n        \"min\": 1,\n        \"max\": 3,\n        \"num_unique_values\": 3,\n        \"samples\": [\n          1,\n          3,\n          2\n        ],\n        \"semantic_type\": \"\",\n        \"description\": \"\"\n      }\n    },\n    {\n      \"column\": \"name\",\n      \"properties\": {\n        \"dtype\": \"string\",\n        \"num_unique_values\": 301,\n        \"samples\": [\n          \"subaru dl\",\n          \"buick century limited\",\n          \"plymouth horizon\"\n        ],\n        \"semantic_type\": \"\",\n        \"description\": \"\"\n      }\n    }\n  ]\n}"
            }
          },
          "metadata": {},
          "execution_count": 5
        }
      ],
      "source": [
        "# อ่านไฟล์ csv ก่อนเพื่อหา missing values\n",
        "auto_df = pd.read_csv('Auto.csv',na_values=[\"?\"])\n",
        "predictor_names = auto_df.columns\n",
        "\n",
        "# ลบแถวที่มี missing values\n",
        "auto_df = auto_df.dropna()\n",
        "auto_df.head()"
      ]
    },
    {
      "cell_type": "code",
      "source": [
        "predictor_names"
      ],
      "metadata": {
        "colab": {
          "base_uri": "https://localhost:8080/"
        },
        "id": "FOeY1p0Wio4x",
        "outputId": "7aead8df-facc-4634-b2a1-6af25046e8c4"
      },
      "execution_count": 6,
      "outputs": [
        {
          "output_type": "execute_result",
          "data": {
            "text/plain": [
              "Index(['mpg', 'cylinders', 'displacement', 'horsepower', 'weight',\n",
              "       'acceleration', 'year', 'origin', 'name'],\n",
              "      dtype='object')"
            ]
          },
          "metadata": {},
          "execution_count": 6
        }
      ]
    },
    {
      "cell_type": "markdown",
      "metadata": {
        "id": "es1_uN5S94_7"
      },
      "source": [
        "### ตัวแปรต่าง ๆ มีดังนี้\n",
        "mpg\n",
        "\n",
        "    miles per gallon\n",
        "cylinders\n",
        "\n",
        "    Number of cylinders between 4 and 8\n",
        "displacement\n",
        "\n",
        "    Engine displacement (cu. inches)\n",
        "horsepower\n",
        "\n",
        "    Engine horsepower\n",
        "weight\n",
        "\n",
        "    Vehicle weight (lbs.)\n",
        "acceleration\n",
        "\n",
        "    Time to accelerate from 0 to 60 mph (sec.)\n",
        "year\n",
        "\n",
        "    Model year (modulo 100)\n",
        "origin\n",
        "\n",
        "    Origin of car (1. American, 2. European, 3. Japanese)\n",
        "name\n",
        "\n",
        "    Vehicle name\n"
      ]
    },
    {
      "cell_type": "code",
      "execution_count": 7,
      "metadata": {
        "id": "XlOmwZlvQXAR",
        "colab": {
          "base_uri": "https://localhost:8080/",
          "height": 206
        },
        "outputId": "2d5a36eb-c659-4b03-f522-ef560847845e"
      },
      "outputs": [
        {
          "output_type": "execute_result",
          "data": {
            "text/plain": [
              "    mpg  cylinders  displacement  horsepower  weight  acceleration  year\n",
              "0  18.0          8         307.0       130.0    3504          12.0    70\n",
              "1  15.0          8         350.0       165.0    3693          11.5    70\n",
              "2  18.0          8         318.0       150.0    3436          11.0    70\n",
              "3  16.0          8         304.0       150.0    3433          12.0    70\n",
              "4  17.0          8         302.0       140.0    3449          10.5    70"
            ],
            "text/html": [
              "\n",
              "  <div id=\"df-1cd670e6-a7a7-4c8e-a95e-ed5555468b09\" class=\"colab-df-container\">\n",
              "    <div>\n",
              "<style scoped>\n",
              "    .dataframe tbody tr th:only-of-type {\n",
              "        vertical-align: middle;\n",
              "    }\n",
              "\n",
              "    .dataframe tbody tr th {\n",
              "        vertical-align: top;\n",
              "    }\n",
              "\n",
              "    .dataframe thead th {\n",
              "        text-align: right;\n",
              "    }\n",
              "</style>\n",
              "<table border=\"1\" class=\"dataframe\">\n",
              "  <thead>\n",
              "    <tr style=\"text-align: right;\">\n",
              "      <th></th>\n",
              "      <th>mpg</th>\n",
              "      <th>cylinders</th>\n",
              "      <th>displacement</th>\n",
              "      <th>horsepower</th>\n",
              "      <th>weight</th>\n",
              "      <th>acceleration</th>\n",
              "      <th>year</th>\n",
              "    </tr>\n",
              "  </thead>\n",
              "  <tbody>\n",
              "    <tr>\n",
              "      <th>0</th>\n",
              "      <td>18.0</td>\n",
              "      <td>8</td>\n",
              "      <td>307.0</td>\n",
              "      <td>130.0</td>\n",
              "      <td>3504</td>\n",
              "      <td>12.0</td>\n",
              "      <td>70</td>\n",
              "    </tr>\n",
              "    <tr>\n",
              "      <th>1</th>\n",
              "      <td>15.0</td>\n",
              "      <td>8</td>\n",
              "      <td>350.0</td>\n",
              "      <td>165.0</td>\n",
              "      <td>3693</td>\n",
              "      <td>11.5</td>\n",
              "      <td>70</td>\n",
              "    </tr>\n",
              "    <tr>\n",
              "      <th>2</th>\n",
              "      <td>18.0</td>\n",
              "      <td>8</td>\n",
              "      <td>318.0</td>\n",
              "      <td>150.0</td>\n",
              "      <td>3436</td>\n",
              "      <td>11.0</td>\n",
              "      <td>70</td>\n",
              "    </tr>\n",
              "    <tr>\n",
              "      <th>3</th>\n",
              "      <td>16.0</td>\n",
              "      <td>8</td>\n",
              "      <td>304.0</td>\n",
              "      <td>150.0</td>\n",
              "      <td>3433</td>\n",
              "      <td>12.0</td>\n",
              "      <td>70</td>\n",
              "    </tr>\n",
              "    <tr>\n",
              "      <th>4</th>\n",
              "      <td>17.0</td>\n",
              "      <td>8</td>\n",
              "      <td>302.0</td>\n",
              "      <td>140.0</td>\n",
              "      <td>3449</td>\n",
              "      <td>10.5</td>\n",
              "      <td>70</td>\n",
              "    </tr>\n",
              "  </tbody>\n",
              "</table>\n",
              "</div>\n",
              "    <div class=\"colab-df-buttons\">\n",
              "\n",
              "  <div class=\"colab-df-container\">\n",
              "    <button class=\"colab-df-convert\" onclick=\"convertToInteractive('df-1cd670e6-a7a7-4c8e-a95e-ed5555468b09')\"\n",
              "            title=\"Convert this dataframe to an interactive table.\"\n",
              "            style=\"display:none;\">\n",
              "\n",
              "  <svg xmlns=\"http://www.w3.org/2000/svg\" height=\"24px\" viewBox=\"0 -960 960 960\">\n",
              "    <path d=\"M120-120v-720h720v720H120Zm60-500h600v-160H180v160Zm220 220h160v-160H400v160Zm0 220h160v-160H400v160ZM180-400h160v-160H180v160Zm440 0h160v-160H620v160ZM180-180h160v-160H180v160Zm440 0h160v-160H620v160Z\"/>\n",
              "  </svg>\n",
              "    </button>\n",
              "\n",
              "  <style>\n",
              "    .colab-df-container {\n",
              "      display:flex;\n",
              "      gap: 12px;\n",
              "    }\n",
              "\n",
              "    .colab-df-convert {\n",
              "      background-color: #E8F0FE;\n",
              "      border: none;\n",
              "      border-radius: 50%;\n",
              "      cursor: pointer;\n",
              "      display: none;\n",
              "      fill: #1967D2;\n",
              "      height: 32px;\n",
              "      padding: 0 0 0 0;\n",
              "      width: 32px;\n",
              "    }\n",
              "\n",
              "    .colab-df-convert:hover {\n",
              "      background-color: #E2EBFA;\n",
              "      box-shadow: 0px 1px 2px rgba(60, 64, 67, 0.3), 0px 1px 3px 1px rgba(60, 64, 67, 0.15);\n",
              "      fill: #174EA6;\n",
              "    }\n",
              "\n",
              "    .colab-df-buttons div {\n",
              "      margin-bottom: 4px;\n",
              "    }\n",
              "\n",
              "    [theme=dark] .colab-df-convert {\n",
              "      background-color: #3B4455;\n",
              "      fill: #D2E3FC;\n",
              "    }\n",
              "\n",
              "    [theme=dark] .colab-df-convert:hover {\n",
              "      background-color: #434B5C;\n",
              "      box-shadow: 0px 1px 3px 1px rgba(0, 0, 0, 0.15);\n",
              "      filter: drop-shadow(0px 1px 2px rgba(0, 0, 0, 0.3));\n",
              "      fill: #FFFFFF;\n",
              "    }\n",
              "  </style>\n",
              "\n",
              "    <script>\n",
              "      const buttonEl =\n",
              "        document.querySelector('#df-1cd670e6-a7a7-4c8e-a95e-ed5555468b09 button.colab-df-convert');\n",
              "      buttonEl.style.display =\n",
              "        google.colab.kernel.accessAllowed ? 'block' : 'none';\n",
              "\n",
              "      async function convertToInteractive(key) {\n",
              "        const element = document.querySelector('#df-1cd670e6-a7a7-4c8e-a95e-ed5555468b09');\n",
              "        const dataTable =\n",
              "          await google.colab.kernel.invokeFunction('convertToInteractive',\n",
              "                                                    [key], {});\n",
              "        if (!dataTable) return;\n",
              "\n",
              "        const docLinkHtml = 'Like what you see? Visit the ' +\n",
              "          '<a target=\"_blank\" href=https://colab.research.google.com/notebooks/data_table.ipynb>data table notebook</a>'\n",
              "          + ' to learn more about interactive tables.';\n",
              "        element.innerHTML = '';\n",
              "        dataTable['output_type'] = 'display_data';\n",
              "        await google.colab.output.renderOutput(dataTable, element);\n",
              "        const docLink = document.createElement('div');\n",
              "        docLink.innerHTML = docLinkHtml;\n",
              "        element.appendChild(docLink);\n",
              "      }\n",
              "    </script>\n",
              "  </div>\n",
              "\n",
              "\n",
              "    <div id=\"df-cb3b858c-3574-469f-ba57-00ea494ee964\">\n",
              "      <button class=\"colab-df-quickchart\" onclick=\"quickchart('df-cb3b858c-3574-469f-ba57-00ea494ee964')\"\n",
              "                title=\"Suggest charts\"\n",
              "                style=\"display:none;\">\n",
              "\n",
              "<svg xmlns=\"http://www.w3.org/2000/svg\" height=\"24px\"viewBox=\"0 0 24 24\"\n",
              "     width=\"24px\">\n",
              "    <g>\n",
              "        <path d=\"M19 3H5c-1.1 0-2 .9-2 2v14c0 1.1.9 2 2 2h14c1.1 0 2-.9 2-2V5c0-1.1-.9-2-2-2zM9 17H7v-7h2v7zm4 0h-2V7h2v10zm4 0h-2v-4h2v4z\"/>\n",
              "    </g>\n",
              "</svg>\n",
              "      </button>\n",
              "\n",
              "<style>\n",
              "  .colab-df-quickchart {\n",
              "      --bg-color: #E8F0FE;\n",
              "      --fill-color: #1967D2;\n",
              "      --hover-bg-color: #E2EBFA;\n",
              "      --hover-fill-color: #174EA6;\n",
              "      --disabled-fill-color: #AAA;\n",
              "      --disabled-bg-color: #DDD;\n",
              "  }\n",
              "\n",
              "  [theme=dark] .colab-df-quickchart {\n",
              "      --bg-color: #3B4455;\n",
              "      --fill-color: #D2E3FC;\n",
              "      --hover-bg-color: #434B5C;\n",
              "      --hover-fill-color: #FFFFFF;\n",
              "      --disabled-bg-color: #3B4455;\n",
              "      --disabled-fill-color: #666;\n",
              "  }\n",
              "\n",
              "  .colab-df-quickchart {\n",
              "    background-color: var(--bg-color);\n",
              "    border: none;\n",
              "    border-radius: 50%;\n",
              "    cursor: pointer;\n",
              "    display: none;\n",
              "    fill: var(--fill-color);\n",
              "    height: 32px;\n",
              "    padding: 0;\n",
              "    width: 32px;\n",
              "  }\n",
              "\n",
              "  .colab-df-quickchart:hover {\n",
              "    background-color: var(--hover-bg-color);\n",
              "    box-shadow: 0 1px 2px rgba(60, 64, 67, 0.3), 0 1px 3px 1px rgba(60, 64, 67, 0.15);\n",
              "    fill: var(--button-hover-fill-color);\n",
              "  }\n",
              "\n",
              "  .colab-df-quickchart-complete:disabled,\n",
              "  .colab-df-quickchart-complete:disabled:hover {\n",
              "    background-color: var(--disabled-bg-color);\n",
              "    fill: var(--disabled-fill-color);\n",
              "    box-shadow: none;\n",
              "  }\n",
              "\n",
              "  .colab-df-spinner {\n",
              "    border: 2px solid var(--fill-color);\n",
              "    border-color: transparent;\n",
              "    border-bottom-color: var(--fill-color);\n",
              "    animation:\n",
              "      spin 1s steps(1) infinite;\n",
              "  }\n",
              "\n",
              "  @keyframes spin {\n",
              "    0% {\n",
              "      border-color: transparent;\n",
              "      border-bottom-color: var(--fill-color);\n",
              "      border-left-color: var(--fill-color);\n",
              "    }\n",
              "    20% {\n",
              "      border-color: transparent;\n",
              "      border-left-color: var(--fill-color);\n",
              "      border-top-color: var(--fill-color);\n",
              "    }\n",
              "    30% {\n",
              "      border-color: transparent;\n",
              "      border-left-color: var(--fill-color);\n",
              "      border-top-color: var(--fill-color);\n",
              "      border-right-color: var(--fill-color);\n",
              "    }\n",
              "    40% {\n",
              "      border-color: transparent;\n",
              "      border-right-color: var(--fill-color);\n",
              "      border-top-color: var(--fill-color);\n",
              "    }\n",
              "    60% {\n",
              "      border-color: transparent;\n",
              "      border-right-color: var(--fill-color);\n",
              "    }\n",
              "    80% {\n",
              "      border-color: transparent;\n",
              "      border-right-color: var(--fill-color);\n",
              "      border-bottom-color: var(--fill-color);\n",
              "    }\n",
              "    90% {\n",
              "      border-color: transparent;\n",
              "      border-bottom-color: var(--fill-color);\n",
              "    }\n",
              "  }\n",
              "</style>\n",
              "\n",
              "      <script>\n",
              "        async function quickchart(key) {\n",
              "          const quickchartButtonEl =\n",
              "            document.querySelector('#' + key + ' button');\n",
              "          quickchartButtonEl.disabled = true;  // To prevent multiple clicks.\n",
              "          quickchartButtonEl.classList.add('colab-df-spinner');\n",
              "          try {\n",
              "            const charts = await google.colab.kernel.invokeFunction(\n",
              "                'suggestCharts', [key], {});\n",
              "          } catch (error) {\n",
              "            console.error('Error during call to suggestCharts:', error);\n",
              "          }\n",
              "          quickchartButtonEl.classList.remove('colab-df-spinner');\n",
              "          quickchartButtonEl.classList.add('colab-df-quickchart-complete');\n",
              "        }\n",
              "        (() => {\n",
              "          let quickchartButtonEl =\n",
              "            document.querySelector('#df-cb3b858c-3574-469f-ba57-00ea494ee964 button');\n",
              "          quickchartButtonEl.style.display =\n",
              "            google.colab.kernel.accessAllowed ? 'block' : 'none';\n",
              "        })();\n",
              "      </script>\n",
              "    </div>\n",
              "\n",
              "    </div>\n",
              "  </div>\n"
            ],
            "application/vnd.google.colaboratory.intrinsic+json": {
              "type": "dataframe",
              "variable_name": "auto_df",
              "summary": "{\n  \"name\": \"auto_df\",\n  \"rows\": 392,\n  \"fields\": [\n    {\n      \"column\": \"mpg\",\n      \"properties\": {\n        \"dtype\": \"number\",\n        \"std\": 7.805007486571799,\n        \"min\": 9.0,\n        \"max\": 46.6,\n        \"num_unique_values\": 127,\n        \"samples\": [\n          17.5,\n          35.1,\n          28.8\n        ],\n        \"semantic_type\": \"\",\n        \"description\": \"\"\n      }\n    },\n    {\n      \"column\": \"cylinders\",\n      \"properties\": {\n        \"dtype\": \"number\",\n        \"std\": 1,\n        \"min\": 3,\n        \"max\": 8,\n        \"num_unique_values\": 5,\n        \"samples\": [\n          4,\n          5,\n          6\n        ],\n        \"semantic_type\": \"\",\n        \"description\": \"\"\n      }\n    },\n    {\n      \"column\": \"displacement\",\n      \"properties\": {\n        \"dtype\": \"number\",\n        \"std\": 104.64400390890465,\n        \"min\": 68.0,\n        \"max\": 455.0,\n        \"num_unique_values\": 81,\n        \"samples\": [\n          116.0,\n          307.0,\n          360.0\n        ],\n        \"semantic_type\": \"\",\n        \"description\": \"\"\n      }\n    },\n    {\n      \"column\": \"horsepower\",\n      \"properties\": {\n        \"dtype\": \"number\",\n        \"std\": 38.49115993282855,\n        \"min\": 46.0,\n        \"max\": 230.0,\n        \"num_unique_values\": 93,\n        \"samples\": [\n          92.0,\n          100.0,\n          52.0\n        ],\n        \"semantic_type\": \"\",\n        \"description\": \"\"\n      }\n    },\n    {\n      \"column\": \"weight\",\n      \"properties\": {\n        \"dtype\": \"number\",\n        \"std\": 849,\n        \"min\": 1613,\n        \"max\": 5140,\n        \"num_unique_values\": 346,\n        \"samples\": [\n          2472,\n          3221,\n          2700\n        ],\n        \"semantic_type\": \"\",\n        \"description\": \"\"\n      }\n    },\n    {\n      \"column\": \"acceleration\",\n      \"properties\": {\n        \"dtype\": \"number\",\n        \"std\": 2.7588641191880816,\n        \"min\": 8.0,\n        \"max\": 24.8,\n        \"num_unique_values\": 95,\n        \"samples\": [\n          14.7,\n          18.0,\n          14.3\n        ],\n        \"semantic_type\": \"\",\n        \"description\": \"\"\n      }\n    },\n    {\n      \"column\": \"year\",\n      \"properties\": {\n        \"dtype\": \"number\",\n        \"std\": 3,\n        \"min\": 70,\n        \"max\": 82,\n        \"num_unique_values\": 13,\n        \"samples\": [\n          81,\n          79,\n          70\n        ],\n        \"semantic_type\": \"\",\n        \"description\": \"\"\n      }\n    }\n  ]\n}"
            }
          },
          "metadata": {},
          "execution_count": 7
        }
      ],
      "source": [
        "auto_df = auto_df.drop(['name', 'origin'],axis=1)\n",
        "\n",
        "auto_df.head()"
      ]
    },
    {
      "cell_type": "markdown",
      "metadata": {
        "id": "Mo4ddcb7BZj4"
      },
      "source": [
        "## 1. Multivariate linear regression\n",
        "\n",
        "เปลี่ยน $\\texttt{dataframe}$ ให้เป็น numpy array ด้วย `dataframe.to_numpy()`\n",
        "\n",
        "1. Response: $\\texttt{y}$ เป็นคอลัมน์เวกเตอร์ของ `mpg`\n",
        "2. Predictors: $\\texttt{X}$ เป็นเมทริกซ์ของตัวแปรที่เหลือ (ใช้ `auto_df.drop`)\n"
      ]
    },
    {
      "cell_type": "code",
      "execution_count": 8,
      "metadata": {
        "id": "6njJmujsAUNv"
      },
      "outputs": [],
      "source": [
        "y = auto_df['mpg'].to_numpy()\n",
        "X = auto_df.drop(['mpg'],axis=1).to_numpy()"
      ]
    },
    {
      "cell_type": "markdown",
      "metadata": {
        "id": "H5CxnhqJEmUN"
      },
      "source": [
        "คอลัมน์แรกของ $\\texttt{X}$ ต้องเป็น $(1, 1, \\ldots ,1 )^T$ (จำนวนเลข 1 เท่ากับจำนวนแถวของ $\\texttt{X}$)  \n",
        "สร้างเวกเตอร์ที่มีแต่เลข 1 และมีความยาวที่เหมาะสมด้วยคำสั่งใดคำสั่งหนึ่งต่อไปนี้  \n",
        "1. $\\texttt{[1]*X.shape[0]}$  \n",
        "2. $\\texttt{np.ones(X.shape[0])}$  "
      ]
    },
    {
      "cell_type": "code",
      "execution_count": 9,
      "metadata": {
        "id": "zoO80UAEm6g5",
        "colab": {
          "base_uri": "https://localhost:8080/"
        },
        "outputId": "65ff517e-6f10-4211-c49f-a338454977b9"
      },
      "outputs": [
        {
          "output_type": "execute_result",
          "data": {
            "text/plain": [
              "(392, 6)"
            ]
          },
          "metadata": {},
          "execution_count": 9
        }
      ],
      "source": [
        "X.shape"
      ]
    },
    {
      "cell_type": "code",
      "execution_count": 10,
      "metadata": {
        "id": "kD8uzgohDRIX"
      },
      "outputs": [],
      "source": [
        "ones =  [1]*X.shape[0] #your answer here\n",
        "\n",
        "# ใส่ ones ให้เป็นคอลัมน์แรกของ X\n",
        "X = np.c_[ones,X]"
      ]
    },
    {
      "cell_type": "code",
      "execution_count": 11,
      "metadata": {
        "id": "yyk9EnXdD0ZU",
        "colab": {
          "base_uri": "https://localhost:8080/"
        },
        "outputId": "5c1899e8-c0b6-4ea5-f6ae-1a625d47993a"
      },
      "outputs": [
        {
          "output_type": "stream",
          "name": "stdout",
          "text": [
            "[[1.000e+00 8.000e+00 3.070e+02 ... 3.504e+03 1.200e+01 7.000e+01]\n",
            " [1.000e+00 8.000e+00 3.500e+02 ... 3.693e+03 1.150e+01 7.000e+01]\n",
            " [1.000e+00 8.000e+00 3.180e+02 ... 3.436e+03 1.100e+01 7.000e+01]\n",
            " ...\n",
            " [1.000e+00 4.000e+00 1.350e+02 ... 2.295e+03 1.160e+01 8.200e+01]\n",
            " [1.000e+00 4.000e+00 1.200e+02 ... 2.625e+03 1.860e+01 8.200e+01]\n",
            " [1.000e+00 4.000e+00 1.190e+02 ... 2.720e+03 1.940e+01 8.200e+01]]\n"
          ]
        }
      ],
      "source": [
        "#เช็คคำตอบ\n",
        "print(X)"
      ]
    },
    {
      "cell_type": "markdown",
      "metadata": {
        "id": "GCGJlLeCUhhg"
      },
      "source": [
        "### Exercise 1: จงเขียนฟังก์ชันต่อไปนี้\n",
        "1. `linear_model` มี input เป็นแมทริกซ์ `X` เวกเตอร์ `y` และ output เป็นเวกเตอร์ของสัมประสิทธิ์\n",
        "2. `predict` มี input เป็นแมทริกซ์ `X` เวกเตอร์ของสัมประสิทธิ์ `beta` และ output เป็นเวกเตอร์ของค่าทำนาย `y_pred`"
      ]
    },
    {
      "cell_type": "markdown",
      "metadata": {
        "id": "DntRinCFiSMx"
      },
      "source": [
        "1. Matrix multiplication $AB = \\texttt{A@B}$\n",
        "2. Transpose: $X^T = \\texttt{X.T}$\n",
        "3. Inverse: $X^{-1} = \\texttt{np.linalg.inv(X)}$\n",
        "\n",
        "$$ \\hat{\\beta} = (X^TX)^{-1}X^Ty $$"
      ]
    },
    {
      "cell_type": "code",
      "execution_count": 12,
      "metadata": {
        "id": "-gCRXKb8fkuH"
      },
      "outputs": [],
      "source": [
        "# Let's start by implementing linear regression from scratch\n",
        "# using the formula provided in the class\n",
        "import numpy as np\n",
        "def linear_model(X, y):\n",
        "    \"\"\"X: เมทริกซ์ของตัวแปรต้น\"\"\"\n",
        "    \"\"\"y: เวกเตอร์ของตัวแปรตาม\"\"\"\n",
        "    \"\"\"Return: เวกเตอร์ของ parameter beta จากการสร้าง linear regressions model\n",
        "    ด้วย Ordinary Least Squares (OLS)\"\"\"\n",
        "    # TODO: your code here\n",
        "    beta = np.linalg.inv(X.T@X)@X.T@y\n",
        "\n",
        "\n",
        "    return beta\n",
        "\n",
        "\n",
        "def predict(X, beta):\n",
        "    \"\"\"beta: array ของสัมประสิทธิ์\"\"\"\n",
        "    \"\"\"X: เมทริกซ์ของตัวแปรต้น\"\"\"\n",
        "    \"\"\"Return: ค่าทำนาย y_pred = X*beta \"\"\"\n",
        "    # TODO: your code here\n",
        "    y_pred = X @ beta\n",
        "\n",
        "\n",
        "    return y_pred"
      ]
    },
    {
      "cell_type": "code",
      "execution_count": 13,
      "metadata": {
        "id": "-QbEbw2lpYI-",
        "colab": {
          "base_uri": "https://localhost:8080/"
        },
        "outputId": "9effe974-5f66-4d31-80cb-19b9d52d33c8"
      },
      "outputs": [
        {
          "output_type": "stream",
          "name": "stdout",
          "text": [
            "Coefficients are: [-1.45352505e+01 -3.29859089e-01  7.67843024e-03 -3.91355574e-04\n",
            " -6.79461791e-03  8.52732469e-02  7.53367180e-01]\n",
            "Predictions are: [15.08291904 14.07257469 15.53631544 15.53447451 15.28640745 10.13543367\n",
            " 10.14518132 10.2823774   9.75375835 13.04735326 15.07939657 14.27003871\n",
            " 13.82978602 18.85175174 22.8737646  19.77703076 20.18480893 21.5104138\n",
            " 24.35531011 26.88779881 21.02865789 22.39292633 22.99745799 23.65262179\n",
            " 21.00103365  8.07833662  9.38643707  9.29830867  7.24571366 25.10867729\n",
            " 24.61286153 24.52028351 21.92845363 16.61626354 17.55758904 17.74574\n",
            " 17.69795664 11.36255565  9.96729942 11.8765442  11.97578129  6.49865193\n",
            "  8.09581057  5.41677433 19.93818121 23.93993731 17.83429946 18.76798947\n",
            " 24.64726853 25.25871046 25.78437479 25.48591785 27.72744749 28.73542612\n",
            " 27.51457176 26.77034873 25.06182966 26.10937612 25.80027716 24.72889672\n",
            " 25.57305112 11.67427267 11.30007803 12.50679499 12.75714021 15.37465857\n",
            "  9.73949929 10.25692321 10.56751885 11.08544346 24.53686692 13.96511587\n",
            " 12.72419686 11.52069253 12.94351945 20.58085608 23.76073001 20.69677535\n",
            " 25.75937571 24.38212406 25.00011254 23.48034983 25.68447336 26.2364295\n",
            " 13.69126305 16.12802575 14.46400093 13.85956762 15.60736214  8.37193353\n",
            " 11.52645429 11.91861002 12.65238439  9.88153868  8.52516411 15.49319926\n",
            " 20.36895964 19.62403204 21.57788156 21.24703524 21.59735105 28.40915592\n",
            "  8.07546943  8.55921675 10.00578581 10.93561711 22.55256871 25.9867432\n",
            " 25.53687062 25.17621289 26.69266488 25.92660824 24.02721072 25.7903072\n",
            " 13.82530684 12.54576166 28.62135079 26.6614134  23.63096698 21.86114667\n",
            " 18.04781784 23.14730004 21.7101852  16.48121319 21.0480205  22.63021193\n",
            " 19.89803813 28.84554639 25.55334458 29.7300346  25.11783949 16.87443316\n",
            " 18.02961836 17.77937481 13.89645694 10.51234786 11.82566238 10.69007833\n",
            " 13.24763444 26.94423954 28.45875999 26.21760734 30.66037831 28.5184935\n",
            " 27.35409053 27.55487228 26.68894433 25.14522932 25.76316276 28.24999575\n",
            " 20.86534057 19.72843728 20.35117293 22.08498837 11.59662286 12.98484124\n",
            " 12.38572348 11.47427689 16.96296774 16.96557775 18.20238623 17.58116438\n",
            " 22.34905661 20.56283943 21.08795115 27.97656417 25.20899789 23.29524908\n",
            " 25.65821158 24.43132239 27.61369707 25.68096596 22.22450577 29.34416604\n",
            " 21.36643436 24.46809039 22.89278401 22.76490118 24.5347002  30.62178962\n",
            " 26.76895107 28.61728304 26.23500845 28.31026097 28.4871898  14.83815162\n",
            " 15.1039231  16.63408455 15.16960849 21.77622018 21.07412409 23.28090688\n",
            " 23.02708734 30.09955353 29.31120925 30.11458786 31.36662947 19.13219836\n",
            " 20.13735624 19.2331034  22.50800567 30.75839623 29.95484606 28.87275454\n",
            " 26.17954267 22.29524004 16.81963223 21.93727469 23.3105742  17.45313705\n",
            " 13.97016888 16.18358982 17.33371956 18.14485514 30.56302142 29.59522577\n",
            " 31.92438807 28.74789849 30.99691639 17.8231224  16.82253536 16.25866923\n",
            " 15.1908468  20.85285247 21.3970444  20.02825252 21.04528609 16.10932319\n",
            " 16.12860119 15.48577532 15.25376011 30.92377133 26.02670855 29.03220559\n",
            " 25.82288054 30.39630062 30.13160211 30.78433761 29.19100755 24.68756981\n",
            " 26.46611794 25.72549851 31.92628509 32.63223239 31.65350469 31.05444818\n",
            " 32.75137801 21.99970563 19.72317682 20.68771595 21.59913207 23.86169585\n",
            " 24.95193102 26.78034141 22.09790666 23.65038517 22.36236881 24.31524206\n",
            " 20.93092557 22.30028628 21.727732   21.69258152 23.03131429 17.42167026\n",
            " 30.39843414 27.71634231 29.40962042 29.76930083 28.07326406 26.83753302\n",
            " 26.13630593 28.71324019 25.67073476 23.2755156  26.13987026 21.62543906\n",
            " 31.31282896 30.54285382 23.99498655 25.74008854 26.54064271 24.11532161\n",
            " 23.27181959 19.85480422 20.44299485 19.23589897 20.00355857 16.61471176\n",
            " 18.65546694 21.12760656 19.38517319 32.43110038 32.17301023 32.59873953\n",
            " 27.69657085 22.43547066 19.96515978 25.15613816 22.95852669 30.6176081\n",
            " 31.10230351 32.20066698 31.11403456 28.00828345 27.61651893 27.03952125\n",
            " 28.5441048  31.82328661 33.30591549 32.05692417 32.72974211 28.74993031\n",
            " 27.49812085 26.84866318 24.06940072 31.60966285 28.30990136 29.52711059\n",
            " 30.03341473 31.12095012 32.23934176 27.77443492 32.34251855 32.77061231\n",
            " 31.24250432 26.64051246 25.2859661  33.69393154 32.09373747 33.84241442\n",
            " 26.1930636  29.86584143 29.61809799 31.09807215 30.59196031 29.78928687\n",
            " 29.75592095 28.35276496 31.0666301  35.26851552 34.46192563 35.18089799\n",
            " 33.37361944 34.03021379 33.37343142 33.71723509 32.1701272  33.38153574\n",
            " 31.48906835 32.27599646 32.17212426 31.43321197 29.53677058 29.71718826\n",
            " 26.01236332 25.79232894 27.12296654 26.85096501 24.38270195 22.80521658\n",
            " 26.67622501 24.07490296 30.71834278 30.3952579  32.00877534 30.63342634\n",
            " 31.13309784 29.99728132 28.89229835 34.55003398 34.3864187  34.70895873\n",
            " 33.51795534 33.68317728 33.36848163 32.96799185 32.91049814 34.52161274\n",
            " 34.58130401 34.42010209 27.99678198 28.20405941 30.75562708 28.99004266\n",
            " 30.06718712 31.93044387 28.4767472  29.33602423 34.27106487 32.32065767\n",
            " 30.56212681 29.97600421]\n"
          ]
        }
      ],
      "source": [
        "beta = linear_model(X, y)\n",
        "y_pred = predict(X, beta)\n",
        "\n",
        "print(\"Coefficients are:\", beta)\n",
        "print(\"Predictions are:\", y_pred)"
      ]
    },
    {
      "cell_type": "markdown",
      "metadata": {
        "id": "L1UMYiD5q5bq"
      },
      "source": [
        "#### จงหา $n$ (จำนวนแถวของ $\\texttt{X}$) และ $p$ (จำนวนตัวแปร) ด้วย method $\\texttt{X.shape[...]}$"
      ]
    },
    {
      "cell_type": "code",
      "execution_count": 14,
      "metadata": {
        "id": "_vthb9XCiYfo",
        "colab": {
          "base_uri": "https://localhost:8080/"
        },
        "outputId": "afbcb232-bf5a-4685-aced-e49dfb499825"
      },
      "outputs": [
        {
          "output_type": "stream",
          "name": "stdout",
          "text": [
            "Number of observations: 392\n",
            "Number of variables: 6\n"
          ]
        }
      ],
      "source": [
        "n = X.shape[0]\n",
        "\n",
        "p = X.shape[1]-1\n",
        "\n",
        "print('Number of observations:', n)\n",
        "print('Number of variables:', p)"
      ]
    },
    {
      "cell_type": "markdown",
      "metadata": {
        "id": "lUa6FapxUhhi"
      },
      "source": [
        "## 2. F-statistic\n",
        "\n",
        "### Exercise 2: เขียนสมมติฐานหลัก ($H_0$) และสมมติฐานแย้ง ($H_a$) ที่ใช้ F-statistic ในการทดสอบ"
      ]
    },
    {
      "cell_type": "markdown",
      "source": [
        "$H_0$ : ${\\beta}_1$ = ${\\beta}_2$ = ${\\beta}_3$ = ${\\beta}_4$ = ${\\beta}_5$ = ${\\beta}_6$ = 0\n",
        "\n",
        "$H_a$ : at least one of ${\\beta}_1$, ${\\beta}_2$, ${\\beta}_3$, ${\\beta}_4$, ${\\beta}_5$, ${\\beta}_6$, ${\\beta}_6$ is non-zero."
      ],
      "metadata": {
        "id": "OwRMeYD0eMYk"
      }
    },
    {
      "cell_type": "markdown",
      "metadata": {
        "id": "EwydDGY2Uhhi"
      },
      "source": [
        "### Exercise 3: จากเวกเตอร์ของ outcomes `y` คำนวณ Total Sum of Squares (TSS)"
      ]
    },
    {
      "cell_type": "markdown",
      "metadata": {
        "id": "wbRqP-L9qFRX"
      },
      "source": [
        "$$ \\text{TSS} = \\sum_{i=1}^n (y_i-\\bar{y})^2 $$\n",
        "\n",
        "$$ \\text{RSS} = \\sum_{i=1}^n (y_i-\\hat{y})^2 $$\n",
        "โดยใช้คำสั่งต่อไปนี้\n",
        "\n",
        "$\\texttt{np.sum}([y_1,y_2,...,y_n])=y_1+y_2+...+y_n$\n",
        "\n",
        "$\\texttt{np.square}([y_1,y_2,...,y_n])=[y_1^2,y^2_2,...,y^2_n]$"
      ]
    },
    {
      "cell_type": "code",
      "execution_count": 15,
      "metadata": {
        "id": "pYAI-2fhqFvx"
      },
      "outputs": [],
      "source": [
        "# Calculate Total Sum of Squares\n",
        "y_mean = y.mean()\n",
        "\n",
        "TSS = np.sum(np.square(y-y_mean))# TODO: your code here\n",
        "\n",
        "RSS = np.sum(np.square(y-y_pred))"
      ]
    },
    {
      "cell_type": "markdown",
      "metadata": {
        "id": "COSxovBLMkr8"
      },
      "source": [
        "คำนวณ $F$-statistic ด้วย\n",
        "$$F_{p,n-p-1} = \\frac{(\\text{TSS}-\\text{RSS})/p}{\\text{RSS}/(n-p-1)}$$\n",
        "หา $n$ และจำนวนของตัวแปร $p$ ด้วย $\\texttt{X.shape}[\\cdot]$"
      ]
    },
    {
      "cell_type": "markdown",
      "metadata": {
        "id": "7n9TmTpXUhhj"
      },
      "source": [
        "### Exercise 4: คำนวณค่า F"
      ]
    },
    {
      "cell_type": "code",
      "execution_count": 16,
      "metadata": {
        "id": "m7qCrrgpPiy9",
        "colab": {
          "base_uri": "https://localhost:8080/"
        },
        "outputId": "732c53b4-5cc3-40fe-ae70-174086a30027"
      },
      "outputs": [
        {
          "output_type": "stream",
          "name": "stdout",
          "text": [
            "272.23409822574587\n"
          ]
        }
      ],
      "source": [
        "F = ((TSS - RSS)/p)/(RSS/(n - p -1))\n",
        "\n",
        "print(F)"
      ]
    },
    {
      "cell_type": "code",
      "execution_count": 17,
      "metadata": {
        "id": "4OcMtqBPQI5V",
        "colab": {
          "base_uri": "https://localhost:8080/"
        },
        "outputId": "ffe28445-c47d-41b3-cc5b-c94c387b6858"
      },
      "outputs": [
        {
          "output_type": "stream",
          "name": "stdout",
          "text": [
            "3.792336100722653e-135\n"
          ]
        }
      ],
      "source": [
        "# Compute p_value of the F-statistic\n",
        "\n",
        "p_value = stats.f.sf(F, p, n-p-1)\n",
        "\n",
        "print(p_value)"
      ]
    },
    {
      "cell_type": "markdown",
      "metadata": {
        "id": "x5ymukiLQuTt"
      },
      "source": [
        "### Exercise 5: จากการทดสอบสมมติฐานที่นัยสำคัญ 0.05 เราได้ข้อสรุปอย่างไรจากค่า p-value ที่ได้ข้างบน"
      ]
    },
    {
      "cell_type": "markdown",
      "metadata": {
        "id": "fxz0W6YlRyTj"
      },
      "source": [
        "### คำตอบของ Exercise 5:\n",
        "\n",
        "\n"
      ]
    },
    {
      "cell_type": "markdown",
      "source": [
        "The F-value is 272.23409822574587 with its corresponding p-value = 3.792336100722653e-135\n",
        "\n",
        "We are certain that at least one of 'cylinders', 'displacement', 'horsepower', 'weight', 'acceleration', 'year' must be related to the 'mpg'"
      ],
      "metadata": {
        "id": "wiSjmCO5hZjv"
      }
    },
    {
      "cell_type": "markdown",
      "metadata": {
        "id": "iLm_WXA7ryIl"
      },
      "source": [
        "## 3. คำนวณ $t$-statistic\n",
        "\n",
        "#### ขั้นตอนในการคำนวณ $t$-statistic\n",
        "\n",
        "\\begin{align*}\n",
        "\\text{RSE} &= \\sqrt{\\frac{\\text{RSS}}{n-p-1}} \\\\\n",
        "\\text{SE}(\\hat{\\beta}) &=\\text{RSE}\\cdot\\sqrt{\\text{diag}\\left( (X^TX)^{-1}\\right)} \\\\\n",
        "t &= \\frac{\\hat{\\beta}}{\\text{SE}(\\hat{\\beta})}\n",
        "\\end{align*}"
      ]
    },
    {
      "cell_type": "code",
      "source": [
        "np.array([[1, 2], [3, 4]]).diagonal() # ดึงค่าในแนวทแยงของ matrix นี้ออกมา"
      ],
      "metadata": {
        "colab": {
          "base_uri": "https://localhost:8080/"
        },
        "id": "UDJv8jnPVrST",
        "outputId": "5c56b9e6-832d-4ae7-eca1-0263de1c72ba"
      },
      "execution_count": 18,
      "outputs": [
        {
          "output_type": "execute_result",
          "data": {
            "text/plain": [
              "array([1, 4])"
            ]
          },
          "metadata": {},
          "execution_count": 18
        }
      ]
    },
    {
      "cell_type": "code",
      "execution_count": 19,
      "metadata": {
        "id": "IJwkRoYlt8U_"
      },
      "outputs": [],
      "source": [
        "def t_to_p_values(t_statistics):\n",
        "    \"\"\"t_statistics: numpy array ของค่า t-statistic ของตัวแปรต่างๆ\n",
        "    Return: เวกเตอร์ของค่า p-value ของค่า t-statistic ที่ให้มา\"\"\"\n",
        "    return stats.t.sf(np.abs(t_statistics), n-p-1)*2\n",
        "\n",
        "# Standard error of each variable in X\n",
        "RSE = np.sqrt(RSS/(n-p-1))\n",
        "SE = RSE * np.sqrt((np.linalg.inv(X.T@X).diagonal()))\n",
        "t = beta  / SE\n",
        "p = t_to_p_values(t)"
      ]
    },
    {
      "cell_type": "code",
      "source": [
        "print(RSE)\n",
        "print(SE)\n",
        "print(t)\n",
        "print(p)"
      ],
      "metadata": {
        "colab": {
          "base_uri": "https://localhost:8080/"
        },
        "id": "r9YtbF4Uj-k9",
        "outputId": "2688dd5d-b34d-4bbb-91ec-e6674386c253"
      },
      "execution_count": 20,
      "outputs": [
        {
          "output_type": "stream",
          "name": "stdout",
          "text": [
            "3.435244003399977\n",
            "[4.76388189e+00 3.32104133e-01 7.35773614e-03 1.38365215e-02\n",
            " 6.70022695e-04 1.02035567e-01 5.26181480e-02]\n",
            "[ -3.05113578  -0.99323994   1.04358597  -0.02828425 -10.14087727\n",
            "   0.83572081  14.3176301 ]\n",
            "[2.43774108e-03 3.21216868e-01 2.97331805e-01 9.77450101e-01\n",
            " 1.41618989e-21 4.03830330e-01 1.41042759e-37]\n"
          ]
        }
      ]
    },
    {
      "cell_type": "markdown",
      "metadata": {
        "id": "AoyrFg7PUhhk"
      },
      "source": [
        "### Exercise 6: จงใช้ฟังก์ชัน `t_to_p_values` ในการหาว่ามีตัวแปรใดบ้างที่มีค่า p-value น้อยกว่า 0.05 **แล้วระบุตัวแปรทั้งหมดใน text block ข้างล่าง**  \n",
        "\n",
        "#### ใช้คำสั่ง `A.diagonal()` เพื่อดึงค่าในแนวทแยงของ `A`"
      ]
    },
    {
      "cell_type": "code",
      "source": [
        "# TODO: your code here\n",
        "#RSE =  RSE # scalar\n",
        "#SE = # vector\n",
        "#t = # vector"
      ],
      "metadata": {
        "id": "UqSHundvnLSO"
      },
      "execution_count": 21,
      "outputs": []
    },
    {
      "cell_type": "code",
      "source": [
        "for i in range(len(p)):\n",
        "    if p[i] < 0.05:\n",
        "        print(predictor_names[i])"
      ],
      "metadata": {
        "colab": {
          "base_uri": "https://localhost:8080/"
        },
        "id": "--jkTI7joW5n",
        "outputId": "33816ebb-d36e-4980-e73e-8c657f6f776e"
      },
      "execution_count": 22,
      "outputs": [
        {
          "output_type": "stream",
          "name": "stdout",
          "text": [
            "mpg\n",
            "weight\n",
            "year\n"
          ]
        }
      ]
    },
    {
      "cell_type": "markdown",
      "metadata": {
        "id": "wZfqjgXuUhhk"
      },
      "source": [
        "list ชื่อตัวแปร"
      ]
    },
    {
      "cell_type": "markdown",
      "source": [],
      "metadata": {
        "id": "hcLotKwcq_yE"
      }
    },
    {
      "cell_type": "code",
      "execution_count": 23,
      "metadata": {
        "id": "OMIlE15LUhhk",
        "colab": {
          "base_uri": "https://localhost:8080/"
        },
        "outputId": "994f22c4-4d4d-4c9d-b1ed-b0b708494997"
      },
      "outputs": [
        {
          "output_type": "stream",
          "name": "stdout",
          "text": [
            "List of predictors: Index(['cylinders', 'displacement', 'horsepower', 'weight', 'acceleration',\n",
            "       'year'],\n",
            "      dtype='object')\n"
          ]
        }
      ],
      "source": [
        "print(\"List of predictors:\", predictor_names[1:-2])"
      ]
    },
    {
      "cell_type": "markdown",
      "metadata": {
        "id": "61K108Bjcjw5"
      },
      "source": [
        "### คำตอบของ Exercise 6:\n",
        "\n",
        "\n",
        "\n"
      ]
    },
    {
      "cell_type": "markdown",
      "source": [
        "ตัวแปรที่มีค่า p-value น้อยกว่า 0.05 คือ\n",
        "\n",
        "1.   weight\n",
        "\n",
        "2.   year\n",
        "\n"
      ],
      "metadata": {
        "id": "uEDwRQLKrIcM"
      }
    },
    {
      "cell_type": "markdown",
      "metadata": {
        "id": "kvxBs5Hlk5rZ"
      },
      "source": [
        "## 4. Variable selection\n",
        "\n",
        "#### statsmodels library สามารถคำนวณค่าต่างๆ เหล่านี้ได้ ผลที่แสดงจะคล้ายกับใน R  \n",
        "#### มีสองวิธึในการทำ linear regression: $\\texttt{statsmodels.api.sm.OLS}$\n",
        "#### และ $\\texttt{statsmodels.formula.api.smf.ols}$"
      ]
    },
    {
      "cell_type": "code",
      "execution_count": 24,
      "metadata": {
        "id": "2srU_UiTbhS9",
        "colab": {
          "base_uri": "https://localhost:8080/"
        },
        "outputId": "dc3be981-a61c-49b1-8b48-fbd1d6be5b37"
      },
      "outputs": [
        {
          "output_type": "stream",
          "name": "stdout",
          "text": [
            "                            OLS Regression Results                            \n",
            "==============================================================================\n",
            "Dep. Variable:                    mpg   R-squared:                       0.809\n",
            "Model:                            OLS   Adj. R-squared:                  0.806\n",
            "Method:                 Least Squares   F-statistic:                     272.2\n",
            "Date:                Thu, 07 Aug 2025   Prob (F-statistic):          3.79e-135\n",
            "Time:                        05:46:54   Log-Likelihood:                -1036.5\n",
            "No. Observations:                 392   AIC:                             2087.\n",
            "Df Residuals:                     385   BIC:                             2115.\n",
            "Df Model:                           6                                         \n",
            "Covariance Type:            nonrobust                                         \n",
            "================================================================================\n",
            "                   coef    std err          t      P>|t|      [0.025      0.975]\n",
            "--------------------------------------------------------------------------------\n",
            "const          -14.5353      4.764     -3.051      0.002     -23.902      -5.169\n",
            "cylinders       -0.3299      0.332     -0.993      0.321      -0.983       0.323\n",
            "displacement     0.0077      0.007      1.044      0.297      -0.007       0.022\n",
            "horsepower      -0.0004      0.014     -0.028      0.977      -0.028       0.027\n",
            "weight          -0.0068      0.001    -10.141      0.000      -0.008      -0.005\n",
            "acceleration     0.0853      0.102      0.836      0.404      -0.115       0.286\n",
            "year             0.7534      0.053     14.318      0.000       0.650       0.857\n",
            "==============================================================================\n",
            "Omnibus:                       37.865   Durbin-Watson:                   1.232\n",
            "Prob(Omnibus):                  0.000   Jarque-Bera (JB):               60.248\n",
            "Skew:                           0.630   Prob(JB):                     8.26e-14\n",
            "Kurtosis:                       4.449   Cond. No.                     8.53e+04\n",
            "==============================================================================\n",
            "\n",
            "Notes:\n",
            "[1] Standard Errors assume that the covariance matrix of the errors is correctly specified.\n",
            "[2] The condition number is large, 8.53e+04. This might indicate that there are\n",
            "strong multicollinearity or other numerical problems.\n"
          ]
        }
      ],
      "source": [
        "import statsmodels.api as sm\n",
        "\n",
        "X = auto_df.drop(['mpg'], axis=1) # matrix นี้ยังไม่มีเลข 1\n",
        "X = sm.add_constant(X)     # add bias constant คำสั่งนี้คือใส่เลข 1 เข้าไปใน matrix\n",
        "y = auto_df['mpg']\n",
        "\n",
        "model = sm.OLS(y, X).fit()\n",
        "print(model.summary()) # ตัวแปรไหนที่มีค่า p เยอะๆ จะต้องเอาออกก่อน"
      ]
    },
    {
      "cell_type": "code",
      "execution_count": 25,
      "metadata": {
        "id": "1WgNrM3_Uhhl",
        "colab": {
          "base_uri": "https://localhost:8080/"
        },
        "outputId": "87056d97-2351-480a-c9c5-be878df0431d"
      },
      "outputs": [
        {
          "output_type": "stream",
          "name": "stdout",
          "text": [
            "                            OLS Regression Results                            \n",
            "==============================================================================\n",
            "Dep. Variable:                    mpg   R-squared:                       0.809\n",
            "Model:                            OLS   Adj. R-squared:                  0.806\n",
            "Method:                 Least Squares   F-statistic:                     272.2\n",
            "Date:                Thu, 07 Aug 2025   Prob (F-statistic):          3.79e-135\n",
            "Time:                        05:46:54   Log-Likelihood:                -1036.5\n",
            "No. Observations:                 392   AIC:                             2087.\n",
            "Df Residuals:                     385   BIC:                             2115.\n",
            "Df Model:                           6                                         \n",
            "Covariance Type:            nonrobust                                         \n",
            "================================================================================\n",
            "                   coef    std err          t      P>|t|      [0.025      0.975]\n",
            "--------------------------------------------------------------------------------\n",
            "Intercept      -14.5353      4.764     -3.051      0.002     -23.902      -5.169\n",
            "cylinders       -0.3299      0.332     -0.993      0.321      -0.983       0.323\n",
            "displacement     0.0077      0.007      1.044      0.297      -0.007       0.022\n",
            "horsepower      -0.0004      0.014     -0.028      0.977      -0.028       0.027\n",
            "weight          -0.0068      0.001    -10.141      0.000      -0.008      -0.005\n",
            "acceleration     0.0853      0.102      0.836      0.404      -0.115       0.286\n",
            "year             0.7534      0.053     14.318      0.000       0.650       0.857\n",
            "==============================================================================\n",
            "Omnibus:                       37.865   Durbin-Watson:                   1.232\n",
            "Prob(Omnibus):                  0.000   Jarque-Bera (JB):               60.248\n",
            "Skew:                           0.630   Prob(JB):                     8.26e-14\n",
            "Kurtosis:                       4.449   Cond. No.                     8.53e+04\n",
            "==============================================================================\n",
            "\n",
            "Notes:\n",
            "[1] Standard Errors assume that the covariance matrix of the errors is correctly specified.\n",
            "[2] The condition number is large, 8.53e+04. This might indicate that there are\n",
            "strong multicollinearity or other numerical problems.\n"
          ]
        }
      ],
      "source": [
        "import statsmodels.formula.api as smf\n",
        "\n",
        "model2 = smf.ols('mpg ~ cylinders + displacement + horsepower + weight + acceleration + year', auto_df)\n",
        "model2 = model2.fit()\n",
        "print(model2.summary())"
      ]
    },
    {
      "cell_type": "markdown",
      "metadata": {
        "id": "piEZXxyBUhhr"
      },
      "source": [
        "### Exercise 7: ใช้ Backward selection ในการเลือกตัวแปร โดยที่เราจะหยุดเมื่อ p-value สของตัวแปรทุกตัว < 0.05 แล้วเขียนสมการของโมเดลที่ได้"
      ]
    },
    {
      "cell_type": "code",
      "execution_count": 31,
      "metadata": {
        "id": "_kMMx-FXUhhr",
        "colab": {
          "base_uri": "https://localhost:8080/"
        },
        "outputId": "af226d41-d8a5-4e16-d7e2-b05b0971610a"
      },
      "outputs": [
        {
          "output_type": "stream",
          "name": "stdout",
          "text": [
            "                            OLS Regression Results                            \n",
            "==============================================================================\n",
            "Dep. Variable:                    mpg   R-squared:                       0.808\n",
            "Model:                            OLS   Adj. R-squared:                  0.807\n",
            "Method:                 Least Squares   F-statistic:                     819.5\n",
            "Date:                Thu, 07 Aug 2025   Prob (F-statistic):          3.33e-140\n",
            "Time:                        05:56:10   Log-Likelihood:                -1037.6\n",
            "No. Observations:                 392   AIC:                             2081.\n",
            "Df Residuals:                     389   BIC:                             2093.\n",
            "Df Model:                           2                                         \n",
            "Covariance Type:            nonrobust                                         \n",
            "==============================================================================\n",
            "                 coef    std err          t      P>|t|      [0.025      0.975]\n",
            "------------------------------------------------------------------------------\n",
            "const        -14.3473      4.007     -3.581      0.000     -22.224      -6.470\n",
            "weight        -0.0066      0.000    -30.911      0.000      -0.007      -0.006\n",
            "year           0.7573      0.049     15.308      0.000       0.660       0.855\n",
            "==============================================================================\n",
            "Omnibus:                       42.504   Durbin-Watson:                   1.230\n",
            "Prob(Omnibus):                  0.000   Jarque-Bera (JB):               71.997\n",
            "Skew:                           0.670   Prob(JB):                     2.32e-16\n",
            "Kurtosis:                       4.616   Cond. No.                     7.17e+04\n",
            "==============================================================================\n",
            "\n",
            "Notes:\n",
            "[1] Standard Errors assume that the covariance matrix of the errors is correctly specified.\n",
            "[2] The condition number is large, 7.17e+04. This might indicate that there are\n",
            "strong multicollinearity or other numerical problems.\n"
          ]
        }
      ],
      "source": [
        "# Block for running your own code\n",
        "X = auto_df.drop(['mpg'], axis=1)\n",
        "y = auto_df['mpg']\n",
        "\n",
        "while True:\n",
        "    X_const = sm.add_constant(X)\n",
        "    model = sm.OLS(y, X_const).fit()\n",
        "    pvalues = model.pvalues.drop('const')\n",
        "\n",
        "    p_max = pvalues.max()\n",
        "    if p_max > 0.05:\n",
        "        var_to_remove = pvalues.idxmax()\n",
        "        X = X.drop(columns=[var_to_remove])\n",
        "    else:\n",
        "        break\n",
        "\n",
        "print(model.summary())\n"
      ]
    },
    {
      "cell_type": "code",
      "execution_count": 27,
      "metadata": {
        "id": "2mhL7y67Uhhs",
        "colab": {
          "base_uri": "https://localhost:8080/"
        },
        "outputId": "e81fd4ae-f85b-47c1-b65f-38b974f488bd"
      },
      "outputs": [
        {
          "output_type": "stream",
          "name": "stdout",
          "text": [
            "Intercept       -3.051136\n",
            "cylinders       -0.993240\n",
            "displacement     1.043586\n",
            "horsepower      -0.028284\n",
            "weight         -10.140877\n",
            "acceleration     0.835721\n",
            "year            14.317630\n",
            "dtype: float64\n",
            "t-value of weight: -10.140877265267768\n"
          ]
        }
      ],
      "source": [
        "# If you want to write with for-loop\n",
        "# อยากดึงค่า t ออกมา\n",
        "print(model2.tvalues)\n",
        "print(\"t-value of weight:\", model2.tvalues[\"weight\"])\n",
        "# column ที่ 2 คือ ค่า t value"
      ]
    },
    {
      "cell_type": "code",
      "source": [
        "# If you want to write with for-loop\n",
        "# อยากดึงค่า p ออกมา\n",
        "print(model2.pvalues)\n",
        "print(\"p-value of weight:\", model2.pvalues[\"weight\"])\n",
        "# column ที่ 2 คือ ค่า p value\n",
        "# ทำไปเรื่อย ๆ จน ค่า p value เป็น 0.05"
      ],
      "metadata": {
        "id": "82aL3cewXgdH",
        "colab": {
          "base_uri": "https://localhost:8080/"
        },
        "outputId": "5cef4eac-465d-466c-d867-115688e130a6"
      },
      "execution_count": 28,
      "outputs": [
        {
          "output_type": "stream",
          "name": "stdout",
          "text": [
            "Intercept       2.437741e-03\n",
            "cylinders       3.212169e-01\n",
            "displacement    2.973318e-01\n",
            "horsepower      9.774501e-01\n",
            "weight          1.416190e-21\n",
            "acceleration    4.038303e-01\n",
            "year            1.410428e-37\n",
            "dtype: float64\n",
            "p-value of weight: 1.416189889352751e-21\n"
          ]
        }
      ]
    },
    {
      "cell_type": "markdown",
      "metadata": {
        "id": "h38YW0IGUhhs"
      },
      "source": [
        "### คำตอบของ Exercise 7:\n",
        "\n",
        "$$\n",
        "y = -14.5353 - 0.0066*\\text{weight} + 0.7573 *\\text{year}\n",
        "$$"
      ]
    },
    {
      "cell_type": "code",
      "execution_count": 32,
      "metadata": {
        "id": "PiRD7WLTUhhs",
        "colab": {
          "base_uri": "https://localhost:8080/",
          "height": 499
        },
        "outputId": "71e8a381-fd06-4692-ed76-32141f8dbdf0"
      },
      "outputs": [
        {
          "output_type": "execute_result",
          "data": {
            "text/plain": [
              "<class 'statsmodels.iolib.summary.Summary'>\n",
              "\"\"\"\n",
              "                            OLS Regression Results                            \n",
              "==============================================================================\n",
              "Dep. Variable:                    mpg   R-squared:                       0.808\n",
              "Model:                            OLS   Adj. R-squared:                  0.807\n",
              "Method:                 Least Squares   F-statistic:                     819.5\n",
              "Date:                Thu, 07 Aug 2025   Prob (F-statistic):          3.33e-140\n",
              "Time:                        06:03:10   Log-Likelihood:                -1037.6\n",
              "No. Observations:                 392   AIC:                             2081.\n",
              "Df Residuals:                     389   BIC:                             2093.\n",
              "Df Model:                           2                                         \n",
              "Covariance Type:            nonrobust                                         \n",
              "==============================================================================\n",
              "                 coef    std err          t      P>|t|      [0.025      0.975]\n",
              "------------------------------------------------------------------------------\n",
              "const        -14.3473      4.007     -3.581      0.000     -22.224      -6.470\n",
              "weight        -0.0066      0.000    -30.911      0.000      -0.007      -0.006\n",
              "year           0.7573      0.049     15.308      0.000       0.660       0.855\n",
              "==============================================================================\n",
              "Omnibus:                       42.504   Durbin-Watson:                   1.230\n",
              "Prob(Omnibus):                  0.000   Jarque-Bera (JB):               71.997\n",
              "Skew:                           0.670   Prob(JB):                     2.32e-16\n",
              "Kurtosis:                       4.616   Cond. No.                     7.17e+04\n",
              "==============================================================================\n",
              "\n",
              "Notes:\n",
              "[1] Standard Errors assume that the covariance matrix of the errors is correctly specified.\n",
              "[2] The condition number is large, 7.17e+04. This might indicate that there are\n",
              "strong multicollinearity or other numerical problems.\n",
              "\"\"\""
            ],
            "text/html": [
              "<table class=\"simpletable\">\n",
              "<caption>OLS Regression Results</caption>\n",
              "<tr>\n",
              "  <th>Dep. Variable:</th>           <td>mpg</td>       <th>  R-squared:         </th> <td>   0.808</td> \n",
              "</tr>\n",
              "<tr>\n",
              "  <th>Model:</th>                   <td>OLS</td>       <th>  Adj. R-squared:    </th> <td>   0.807</td> \n",
              "</tr>\n",
              "<tr>\n",
              "  <th>Method:</th>             <td>Least Squares</td>  <th>  F-statistic:       </th> <td>   819.5</td> \n",
              "</tr>\n",
              "<tr>\n",
              "  <th>Date:</th>             <td>Thu, 07 Aug 2025</td> <th>  Prob (F-statistic):</th> <td>3.33e-140</td>\n",
              "</tr>\n",
              "<tr>\n",
              "  <th>Time:</th>                 <td>06:03:10</td>     <th>  Log-Likelihood:    </th> <td> -1037.6</td> \n",
              "</tr>\n",
              "<tr>\n",
              "  <th>No. Observations:</th>      <td>   392</td>      <th>  AIC:               </th> <td>   2081.</td> \n",
              "</tr>\n",
              "<tr>\n",
              "  <th>Df Residuals:</th>          <td>   389</td>      <th>  BIC:               </th> <td>   2093.</td> \n",
              "</tr>\n",
              "<tr>\n",
              "  <th>Df Model:</th>              <td>     2</td>      <th>                     </th>     <td> </td>    \n",
              "</tr>\n",
              "<tr>\n",
              "  <th>Covariance Type:</th>      <td>nonrobust</td>    <th>                     </th>     <td> </td>    \n",
              "</tr>\n",
              "</table>\n",
              "<table class=\"simpletable\">\n",
              "<tr>\n",
              "     <td></td>       <th>coef</th>     <th>std err</th>      <th>t</th>      <th>P>|t|</th>  <th>[0.025</th>    <th>0.975]</th>  \n",
              "</tr>\n",
              "<tr>\n",
              "  <th>const</th>  <td>  -14.3473</td> <td>    4.007</td> <td>   -3.581</td> <td> 0.000</td> <td>  -22.224</td> <td>   -6.470</td>\n",
              "</tr>\n",
              "<tr>\n",
              "  <th>weight</th> <td>   -0.0066</td> <td>    0.000</td> <td>  -30.911</td> <td> 0.000</td> <td>   -0.007</td> <td>   -0.006</td>\n",
              "</tr>\n",
              "<tr>\n",
              "  <th>year</th>   <td>    0.7573</td> <td>    0.049</td> <td>   15.308</td> <td> 0.000</td> <td>    0.660</td> <td>    0.855</td>\n",
              "</tr>\n",
              "</table>\n",
              "<table class=\"simpletable\">\n",
              "<tr>\n",
              "  <th>Omnibus:</th>       <td>42.504</td> <th>  Durbin-Watson:     </th> <td>   1.230</td>\n",
              "</tr>\n",
              "<tr>\n",
              "  <th>Prob(Omnibus):</th> <td> 0.000</td> <th>  Jarque-Bera (JB):  </th> <td>  71.997</td>\n",
              "</tr>\n",
              "<tr>\n",
              "  <th>Skew:</th>          <td> 0.670</td> <th>  Prob(JB):          </th> <td>2.32e-16</td>\n",
              "</tr>\n",
              "<tr>\n",
              "  <th>Kurtosis:</th>      <td> 4.616</td> <th>  Cond. No.          </th> <td>7.17e+04</td>\n",
              "</tr>\n",
              "</table><br/><br/>Notes:<br/>[1] Standard Errors assume that the covariance matrix of the errors is correctly specified.<br/>[2] The condition number is large, 7.17e+04. This might indicate that there are<br/>strong multicollinearity or other numerical problems."
            ],
            "text/latex": "\\begin{center}\n\\begin{tabular}{lclc}\n\\toprule\n\\textbf{Dep. Variable:}    &       mpg        & \\textbf{  R-squared:         } &     0.808   \\\\\n\\textbf{Model:}            &       OLS        & \\textbf{  Adj. R-squared:    } &     0.807   \\\\\n\\textbf{Method:}           &  Least Squares   & \\textbf{  F-statistic:       } &     819.5   \\\\\n\\textbf{Date:}             & Thu, 07 Aug 2025 & \\textbf{  Prob (F-statistic):} & 3.33e-140   \\\\\n\\textbf{Time:}             &     06:03:10     & \\textbf{  Log-Likelihood:    } &   -1037.6   \\\\\n\\textbf{No. Observations:} &         392      & \\textbf{  AIC:               } &     2081.   \\\\\n\\textbf{Df Residuals:}     &         389      & \\textbf{  BIC:               } &     2093.   \\\\\n\\textbf{Df Model:}         &           2      & \\textbf{                     } &             \\\\\n\\textbf{Covariance Type:}  &    nonrobust     & \\textbf{                     } &             \\\\\n\\bottomrule\n\\end{tabular}\n\\begin{tabular}{lcccccc}\n                & \\textbf{coef} & \\textbf{std err} & \\textbf{t} & \\textbf{P$> |$t$|$} & \\textbf{[0.025} & \\textbf{0.975]}  \\\\\n\\midrule\n\\textbf{const}  &     -14.3473  &        4.007     &    -3.581  &         0.000        &      -22.224    &       -6.470     \\\\\n\\textbf{weight} &      -0.0066  &        0.000     &   -30.911  &         0.000        &       -0.007    &       -0.006     \\\\\n\\textbf{year}   &       0.7573  &        0.049     &    15.308  &         0.000        &        0.660    &        0.855     \\\\\n\\bottomrule\n\\end{tabular}\n\\begin{tabular}{lclc}\n\\textbf{Omnibus:}       & 42.504 & \\textbf{  Durbin-Watson:     } &    1.230  \\\\\n\\textbf{Prob(Omnibus):} &  0.000 & \\textbf{  Jarque-Bera (JB):  } &   71.997  \\\\\n\\textbf{Skew:}          &  0.670 & \\textbf{  Prob(JB):          } & 2.32e-16  \\\\\n\\textbf{Kurtosis:}      &  4.616 & \\textbf{  Cond. No.          } & 7.17e+04  \\\\\n\\bottomrule\n\\end{tabular}\n%\\caption{OLS Regression Results}\n\\end{center}\n\nNotes: \\newline\n [1] Standard Errors assume that the covariance matrix of the errors is correctly specified. \\newline\n [2] The condition number is large, 7.17e+04. This might indicate that there are \\newline\n strong multicollinearity or other numerical problems."
          },
          "metadata": {},
          "execution_count": 32
        }
      ],
      "source": [
        "model.summary()"
      ]
    }
  ],
  "metadata": {
    "colab": {
      "provenance": [],
      "include_colab_link": true
    },
    "kernelspec": {
      "display_name": "Python 3 (ipykernel)",
      "language": "python",
      "name": "python3"
    },
    "language_info": {
      "codemirror_mode": {
        "name": "ipython",
        "version": 3
      },
      "file_extension": ".py",
      "mimetype": "text/x-python",
      "name": "python",
      "nbconvert_exporter": "python",
      "pygments_lexer": "ipython3",
      "version": "3.10.12"
    }
  },
  "nbformat": 4,
  "nbformat_minor": 0
}